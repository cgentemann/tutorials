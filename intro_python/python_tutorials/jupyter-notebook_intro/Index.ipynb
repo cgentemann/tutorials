{
 "cells": [
  {
   "cell_type": "markdown",
   "metadata": {},
   "source": [
    "## Introducing the Notebook\n",
    "\n",
    "* [Notebook basics](Notebook Basics.ipynb)\n",
    "* [Running code](Running Code.ipynb)\n",
    "* [Working with Markdown cells](Working With Markdown Cells.ipynb)\n",
    "* Extra: [Typesetting equations](Typesetting Equations.ipynb)\n",
    "\n",
    "### Exercises\n",
    "\n",
    "* [Counting words](exercises/WordFrequencies.ipynb)\n",
    "* Extra: [Monte Carlo integration of pi](exercises/MonteCarloPi.ipynb)\n",
    "\n",
    "<div class=\"alert alert-info\">If you're stuck on any exercise, you can see the solution by changing the URL to `...-solution.ipynb`</div>"
   ]
  },
  {
   "cell_type": "markdown",
   "metadata": {},
   "source": [
    "## IPython - beyond plain Python\n",
    "\n",
    "* [Beyond plain Python](Beyond Plain Python.ipynb)\n",
    "\n",
    "## Rich output display\n",
    "\n",
    "* [Rich output](Rich Output.ipynb)\n",
    "* Extra: [Custom display logic](Custom Display Logic.ipynb)\n",
    "* Extra: [Updating displays](Updating Displays.ipynb)\n",
    "\n",
    "### Exercises\n",
    "\n",
    "* [Wallis' formula for pi](exercises/Wallis-Pi.ipynb)\n",
    "* Extra: [Removing noise from an image using Fourier transforms](exercises/fourier_moon_denoise.ipynb)\n",
    "\n",
    "## Interactive widgets in notebook output\n",
    "\n",
    "* [Using `interact`](Using Interact.ipynb)\n",
    "* Extra: [Available widgets](Widget List.ipynb)\n",
    "* Extra: [Widget basics](Widget Basics.ipynb)\n",
    "* Extra: [Widget events](Widget Events.ipynb)\n",
    "\n",
    "### Exercises\n",
    "\n",
    "* [`interact` basics](exercises/InteractBasics.ipynb)\n",
    "* Extra: [Comparing images](exercises/ImageCompare.ipynb)"
   ]
  },
  {
   "cell_type": "markdown",
   "metadata": {},
   "source": [
    "## Notebook files and nbconvert\n",
    "\n",
    "* [Notebook file format](Notebook file format.ipynb)\n",
    "* [Nbconvert: convert notebooks to other formats](Using Nbconvert.ipynb)\n",
    "* [Nbval: Check that notebooks run correctly](nbval.ipynb)\n",
    "\n",
    "* Extra: [Nbconvert custom templates](nbconvert_templates/Nbconvert templates.ipynb)\n",
    "\n",
    "\n",
    "## Sharing notebooks with Github, Nbviewer and Binder\n",
    "\n",
    "* [Nbviewer: Sharing notebooks on the web](Nbviewer.ipynb)\n",
    "* [mybinder.org](https://mybinder.org/)\n",
    "  * [Example Binder repository with LIGO data](https://github.com/minrk/ligo-binder/)\n",
    "  * [Binder documentation](http://mybinder.readthedocs.io/en/latest/index.html)\n",
    "* Extra: [Nbdime: notebooks in version control](nbdime.ipynb)"
   ]
  }
 ],
 "metadata": {
  "kernelspec": {
   "display_name": "Python 3",
   "language": "python",
   "name": "python3"
  },
  "language_info": {
   "codemirror_mode": {
    "name": "ipython",
    "version": 3
   },
   "file_extension": ".py",
   "mimetype": "text/x-python",
   "name": "python",
   "nbconvert_exporter": "python",
   "pygments_lexer": "ipython3",
   "version": "3.5.2"
  }
 },
 "nbformat": 4,
 "nbformat_minor": 2
}
