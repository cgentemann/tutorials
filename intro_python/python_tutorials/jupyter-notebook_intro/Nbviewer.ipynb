{
 "cells": [
  {
   "cell_type": "markdown",
   "metadata": {},
   "source": [
    "# Nbviewer\n",
    "\n",
    "<div style=\"text-align: center\">\n",
    "<strong><a href=\"https://nbviewer.jupyter.org/\">https://nbviewer.jupyter.org/</a></strong>\n",
    "</div>\n",
    "\n",
    "Nbviewer is a service to share notebooks on the web. You upload the `.ipynb` notebook file somewhere and put the URL into nbviewer; it gives you a link with an HTML view of the notebook.\n",
    "\n",
    "For example:\n",
    "\n",
    "* Notebook file: http://norvig.com/ipython/Countdown.ipynb\n",
    "* Nbviewer link: http://nbviewer.jupyter.org/url/norvig.com/ipython/Countdown.ipynb"
   ]
  },
  {
   "cell_type": "markdown",
   "metadata": {},
   "source": [
    "Sharing notebooks like this has a key advantage over converting notebooks to HTML yourself:\n",
    "\n",
    "![nbviewer header showing download button](images/nbviewer_download_link.png)\n",
    "\n",
    "Nbviewer automatically links back to the notebook file. So if someone is reading your notebook on nbviewer and finds it interesting, they can download the notebook file, run your code, and experiment with their own changes.\n",
    "\n",
    "This is good for *reproducible research*: you're not just telling people about your computational methods, you're letting them run those methods."
   ]
  },
  {
   "cell_type": "markdown",
   "metadata": {},
   "source": [
    "## Nbviewer and GitHub\n",
    "\n",
    "GitHub is one of the most popular places to host notebooks online. This tutorial is hosted on GitHub, for example.\n",
    "\n",
    "GitHub integrates nbviewer, so when you look at a notebook on `github.com`, you see the HTML view instead of the raw file. For instance, here's this notebook in the GitHub interface:\n",
    "\n",
    "<div style=\"text-align: center\">\n",
    "<a href=\"https://github.com/takluyver/jupyter-intro-xfel-jan17/blob/master/Nbviewer.ipynb\">\n",
    "https://github.com/takluyver/jupyter-intro-xfel-jan17/blob/master/Nbviewer.ipynb\n",
    "</a>\n",
    "</div>\n",
    "\n",
    "Some content doesn't work in the GitHub view for security reasons. If you want to see this, you can still pass GitHub URLs into nbviewer."
   ]
  }
 ],
 "metadata": {
  "kernelspec": {
   "display_name": "Python 3",
   "language": "python",
   "name": "python3"
  },
  "language_info": {
   "codemirror_mode": {
    "name": "ipython",
    "version": 3
   },
   "file_extension": ".py",
   "mimetype": "text/x-python",
   "name": "python",
   "nbconvert_exporter": "python",
   "pygments_lexer": "ipython3",
   "version": "3.5.2"
  }
 },
 "nbformat": 4,
 "nbformat_minor": 2
}
