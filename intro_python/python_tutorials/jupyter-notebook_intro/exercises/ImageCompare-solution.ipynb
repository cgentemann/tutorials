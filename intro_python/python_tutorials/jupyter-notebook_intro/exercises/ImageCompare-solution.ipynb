{
 "cells": [
  {
   "cell_type": "markdown",
   "metadata": {},
   "source": [
    "# \"Just in time GUIs\" for interactive exploration"
   ]
  },
  {
   "cell_type": "markdown",
   "metadata": {},
   "source": [
    "## Bridging JavaScript and the IPython kernel in the browser"
   ]
  },
  {
   "cell_type": "markdown",
   "metadata": {},
   "source": [
    "In this exercise we illustrate IPython's interactive capabilities by building an image comparison tool, inspired by [Github's image diff](https://github.com/blog/817-behold-image-view-modes).\n",
    "\n",
    "We will see how we can build, with a very limited amount of code, a small tool to assist us in comparing two related images visually, a task often needed in data analysis.  While working interactively with code, most of us probably simply will plot both next to each other and look at them side by side...\n",
    "\n",
    "Since this example was written as an illustration for a recent talk at [Neil Lawrence's Data Science and Machine Learning initiative at U. Sheffield](http://staffwww.dcs.shef.ac.uk/people/N.Lawrence/), we'll use for our illustration the old and new version of the coat of arms for the University of Sheffield:"
   ]
  },
  {
   "cell_type": "code",
   "execution_count": null,
   "metadata": {},
   "outputs": [],
   "source": [
    "%matplotlib inline\n",
    "import matplotlib.pyplot as plt\n",
    "import numpy as np\n",
    "\n",
    "a = plt.imread(\"University_of_Sheffield_coat_of_arms_old.png\")\n",
    "b = plt.imread(\"University_of_Sheffield_coat_of_arms_new.png\")\n",
    "plt.rcParams['figure.figsize'] = (8,6)\n",
    "fig, (ax_a, ax_b) = plt.subplots(1, 2)\n",
    "ax_a.imshow(a)\n",
    "ax_b.imshow(b);"
   ]
  },
  {
   "cell_type": "markdown",
   "metadata": {},
   "source": [
    "It would be great to be able to visualize the changes in various forms: as an image difference, blending the two, superimposing them... \n",
    "\n",
    "Let's build a set of comparison functions that will return a new image $c = f(a, b)$, so we can display the result. More generically, how we produce the comparison between $a$ and $b$ can depend on a parameter, say $\\alpha$, so our comparison functions in general will be of the form $c = f(a, b, \\alpha)$.\n",
    "\n",
    "This is precisely the functionality offered by [Github's image diff tools](https://github.com/blog/817-behold-image-view-modes):"
   ]
  },
  {
   "cell_type": "code",
   "execution_count": null,
   "metadata": {},
   "outputs": [],
   "source": [
    "def c_blend(a, b, alpha):\n",
    "    \"\"\"Blend images a and b.\n",
    "    \"\"\"\n",
    "    return (1.0-alpha)*a + alpha*b\n",
    "\n",
    "\n",
    "def c_diff(a, b, alpha):\n",
    "    \"\"\"Return the difference between a and b.\n",
    "    \"\"\"\n",
    "    # Note: we still leave alpha as a parameter for reasons\n",
    "    # so we can call this function with the same interface as the others\n",
    "    return a-b\n",
    "\n",
    "\n",
    "def c_horizontal_shade(a, b, alpha):\n",
    "    \"\"\"Form c from top rows of a and bottom rows of b.\n",
    "    \"\"\"\n",
    "    nrows = a.shape[0]\n",
    "    r_index = int(alpha*nrows)\n",
    "    c = np.empty_like(a)\n",
    "    c[:r_index] = a[:r_index]\n",
    "    c[r_index:] = b[r_index:]\n",
    "    return c\n",
    "\n",
    "\n",
    "def c_vertical_shade(a, b, alpha):\n",
    "    \"\"\"Form c from left columns of a and right columns of b.\n",
    "    \"\"\"\n",
    "    ncols = a.shape[1]\n",
    "    c_index = int(alpha*ncols)\n",
    "    c = np.empty_like(a)   \n",
    "    c[:, :c_index] = a[:, :c_index]\n",
    "    c[:, c_index:] = b[:, c_index:]\n",
    "    return c"
   ]
  },
  {
   "cell_type": "markdown",
   "metadata": {},
   "source": [
    "Now that we have defined all our specific comparison functions, we can call any of them via a wrapper utility function that selects which one to uses, and ensures that the color limits are always the actual limiting values of the orginal data. Let's define this utility:"
   ]
  },
  {
   "cell_type": "code",
   "execution_count": null,
   "metadata": {},
   "outputs": [],
   "source": [
    "def compare(a, b, method=c_vertical_shade, alpha=0.5):\n",
    "    \"\"\"Show the comparison between images a and b using the \n",
    "    selected comparison method.\n",
    "    \"\"\"\n",
    "    c = method(a, b, alpha)\n",
    "    cmin = min(a.min(), b.min())\n",
    "    cmax = max(a.max(), b.max())\n",
    "    plt.imshow(c, clim=(cmin, cmax))"
   ]
  },
  {
   "cell_type": "markdown",
   "metadata": {},
   "source": [
    "And using it, we can now call it as follows:"
   ]
  },
  {
   "cell_type": "code",
   "execution_count": null,
   "metadata": {},
   "outputs": [],
   "source": [
    "compare(a, b, alpha=0.250)"
   ]
  },
  {
   "cell_type": "markdown",
   "metadata": {},
   "source": [
    "Or for example:"
   ]
  },
  {
   "cell_type": "code",
   "execution_count": null,
   "metadata": {},
   "outputs": [],
   "source": [
    "compare(a, b, c_horizontal_shade, 0.4)"
   ]
  },
  {
   "cell_type": "markdown",
   "metadata": {},
   "source": [
    "# Exercise\n",
    "\n",
    "Now, using the IPython `interact` facility, you should create a graphical interface to call `compare` with a slider for `alpha` between 0 and 1, and a selector for all the possible comparison methods."
   ]
  },
  {
   "cell_type": "markdown",
   "metadata": {},
   "source": [
    "# Solution\n",
    "\n",
    "Using the IPython `interact` facility, we can provide interactive controls that let us much more easily see these differences:"
   ]
  },
  {
   "cell_type": "code",
   "execution_count": null,
   "metadata": {},
   "outputs": [],
   "source": [
    "from ipywidgets import interact, fixed\n",
    "\n",
    "interact(compare, a=fixed(a), b=fixed(b), alpha=(0.0, 1.0), \n",
    "         method=dict(blend=c_blend, diff=c_diff, \n",
    "                     horizontal_shade=c_horizontal_shade,\n",
    "                     vertical_shade=c_vertical_shade));"
   ]
  },
  {
   "cell_type": "markdown",
   "metadata": {},
   "source": [
    "## Building a slightly more feature-rich version"
   ]
  },
  {
   "cell_type": "markdown",
   "metadata": {},
   "source": [
    "The above illustrates the basic idea and is already useful. With only a small amount more work, we can turn this into a richer tool that can come in handy any time we want to compare two images."
   ]
  },
  {
   "cell_type": "code",
   "execution_count": null,
   "metadata": {},
   "outputs": [],
   "source": [
    "def ax3_show(axes, images):\n",
    "    \"\"\"Show three images on three axes with a common color range.\n",
    "    \"\"\"\n",
    "    a, b = images[:2]\n",
    "    cmin = min(a.min(), b.min())\n",
    "    cmax = max(a.max(), b.max())\n",
    "\n",
    "    for ax, im in zip(axes, images):\n",
    "        ax.imshow(im, clim=(cmin, cmax))\n",
    "        ax.set_xticks([])\n",
    "        ax.set_yticks([])\n",
    "    plt.subplots_adjust(0, 0, 1, 1, 0, 0)\n",
    "\n",
    "    \n",
    "def show3_square(a, b, c, fig_width = 8):\n",
    "    \"\"\"Show three images for which a roughly square aspect ratio layout works.\n",
    "    \"\"\"\n",
    "    # Compute the figure size to accomodate comparison image and originals\n",
    "    nr, nc = c.shape[:2]\n",
    "    ar = nr/nc\n",
    "    fig_height = (2/3)*fig_width*ar\n",
    "    f = plt.figure(None, (fig_width, fig_height) )\n",
    "    # For some reason, I'm not getting the images to line up at the bottom. Puzzled.\n",
    "    ax_c = f.add_axes((0, 0, 2/3, 1))\n",
    "    ax_a = f.add_axes((2/3, 0, 1/3, 1/2))\n",
    "    ax_b = f.add_axes((2/3, 1/2, 1/3, 1/2))\n",
    "\n",
    "    # Put each image into its own axis\n",
    "    ax3_show([ax_a, ax_b, ax_c], [a, b, c])\n",
    "    \n",
    "    \n",
    "def show3_stack(a, b, c, mode='tall'):\n",
    "    \"\"\"Show three images stacked in the tall or wide direction.\n",
    "    \"\"\"\n",
    "    shape = (1, 3) if mode=='tall' else (3, 1)\n",
    "    f, ax = plt.subplots(*shape, sharex=True, sharey=True, figsize=(7, 5))\n",
    "    ax3_show(ax, [c, a, b])\n",
    "    \n",
    "    \n",
    "def show3(a, b, c, layout='auto'):\n",
    "    \"\"\"Show three images.\n",
    "    \n",
    "    The layout can be specified or left for automatic selection. If `layout`\n",
    "    is `auto`, the aspect ratio of the images will be used to select the \n",
    "    best layout (tall, wide or square).\n",
    "    \"\"\"\n",
    "    funcs = dict(square = show3_square,\n",
    "                 tall = lambda a,b,c: show3_stack(a,b,c, 'tall'),\n",
    "                 wide = lambda a,b,c: show3_stack(a,b,c, 'wide'))\n",
    "    \n",
    "    if layout == 'auto':\n",
    "        nr, nc = c.shape[:2]\n",
    "        ar = nr/nc\n",
    "        if ar > 3:\n",
    "            layout = 'tall'\n",
    "        elif ar < 1/3:\n",
    "            layout = 'wide'\n",
    "        else:\n",
    "            layout = 'square'\n",
    "            \n",
    "    show = funcs[layout]\n",
    "    show(a, b, c)"
   ]
  },
  {
   "cell_type": "markdown",
   "metadata": {},
   "source": [
    "Let's see what these three layout options look like:"
   ]
  },
  {
   "cell_type": "code",
   "execution_count": null,
   "metadata": {},
   "outputs": [],
   "source": [
    "c = a-b\n",
    "for layout in ['square', 'tall', 'wide']:\n",
    "    show3(a, b, c, layout)"
   ]
  },
  {
   "cell_type": "markdown",
   "metadata": {},
   "source": [
    "Now, we have all the pieces we need to build a better image comparison tool.\n",
    "\n",
    "First, we build a pure function that takes the arguments we will want to control interactively, including the option to easily swap $a$ and $b$:"
   ]
  },
  {
   "cell_type": "code",
   "execution_count": null,
   "metadata": {},
   "outputs": [],
   "source": [
    "def compare2(a, b, method=c_vertical_shade, alpha=0, layout='auto', swap=False):\n",
    "    \"\"\"Utility function to compare two images.\n",
    "    \"\"\"\n",
    "    if swap:\n",
    "        a, b = b, a\n",
    "    c = method(a, b, alpha)\n",
    "    show3(a, b, c, layout=layout)    "
   ]
  },
  {
   "cell_type": "markdown",
   "metadata": {},
   "source": [
    "And now, it's easy to build our interactive widget:"
   ]
  },
  {
   "cell_type": "code",
   "execution_count": null,
   "metadata": {},
   "outputs": [],
   "source": [
    "def imcompare(a, b):\n",
    "    \"\"\"Compare images a and b with interactive controls.\n",
    "    \"\"\"\n",
    "    # Exercise: add support for cropping images to a common size if\n",
    "    # they have a size mismatch.\n",
    "    if a.shape != b.shape:\n",
    "        raise ValueError(\"Both images must have the exact same shape\")\n",
    "        \n",
    "    # Now, call compare2 above with an interactive widget\n",
    "    interact(compare2, a=fixed(a), b=fixed(b),\n",
    "             method=dict(blend=c_blend, diff=c_diff, \n",
    "                         horizontal_shade=c_horizontal_shade,\n",
    "                         vertical_shade=c_vertical_shade),\n",
    "                         alpha=(0.0, 1.0, 0.05),\n",
    "                         swap=False,\n",
    "                         layout=['auto', 'tall', 'wide']) "
   ]
  },
  {
   "cell_type": "markdown",
   "metadata": {},
   "source": [
    "With this widget, it's now simply a matter of making a function call any time we want to compare two images:"
   ]
  },
  {
   "cell_type": "code",
   "execution_count": null,
   "metadata": {},
   "outputs": [],
   "source": [
    "imcompare(a, b)"
   ]
  }
 ],
 "metadata": {
  "kernelspec": {
   "display_name": "Python 3",
   "language": "python",
   "name": "python3"
  },
  "language_info": {
   "codemirror_mode": {
    "name": "ipython",
    "version": 3
   },
   "file_extension": ".py",
   "mimetype": "text/x-python",
   "name": "python",
   "nbconvert_exporter": "python",
   "pygments_lexer": "ipython3",
   "version": "3.6.4"
  },
  "name": "_merged"
 },
 "nbformat": 4,
 "nbformat_minor": 1
}
