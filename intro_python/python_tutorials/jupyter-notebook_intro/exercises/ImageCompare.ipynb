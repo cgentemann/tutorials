{
 "cells": [
  {
   "cell_type": "markdown",
   "metadata": {},
   "source": [
    "# \"Just in time GUIs\" for interactive exploration"
   ]
  },
  {
   "cell_type": "markdown",
   "metadata": {},
   "source": [
    "## Bridging JavaScript and the IPython kernel in the browser"
   ]
  },
  {
   "cell_type": "markdown",
   "metadata": {},
   "source": [
    "In this exercise we illustrate IPython's interactive capabilities by building an image comparison tool, inspired by [Github's image diff](https://github.com/blog/817-behold-image-view-modes).\n",
    "\n",
    "We will see how we can build, with a very limited amount of code, a small tool to assist us in comparing two related images visually, a task often needed in data analysis.  While working interactively with code, most of us probably simply will plot both next to each other and look at them side by side...\n",
    "\n",
    "Since this example was written as an illustration for a talk at [Neil Lawrence's Data Science and Machine Learning initiative at Sheffield](http://staffwww.dcs.shef.ac.uk/people/N.Lawrence/), we'll use for our illustration the old and new version of the coat of arms for the University of Sheffield:"
   ]
  },
  {
   "cell_type": "code",
   "execution_count": null,
   "metadata": {},
   "outputs": [],
   "source": [
    "%matplotlib inline\n",
    "import matplotlib.pyplot as plt\n",
    "import numpy as np\n",
    "\n",
    "a = plt.imread(\"University_of_Sheffield_coat_of_arms_old.png\")\n",
    "b = plt.imread(\"University_of_Sheffield_coat_of_arms_new.png\")\n",
    "plt.rcParams['figure.figsize'] = (8,6)\n",
    "fig, (ax_a, ax_b) = plt.subplots(1, 2)\n",
    "ax_a.imshow(a)\n",
    "ax_b.imshow(b);"
   ]
  },
  {
   "cell_type": "markdown",
   "metadata": {},
   "source": [
    "It would be great to be able to visualize the changes in various forms: as an image difference, blending the two, superimposing them... \n",
    "\n",
    "Let's build a set of comparison functions that will return a new image $c = f(a, b)$, so we can display the result. More generically, how we produce the comparison between $a$ and $b$ can depend on a parameter, say $\\alpha$, so our comparison functions in general will be of the form $c = f(a, b, \\alpha)$.\n",
    "\n",
    "This is precisely the functionality offered by [Github's image diff tools](https://github.com/blog/817-behold-image-view-modes):"
   ]
  },
  {
   "cell_type": "code",
   "execution_count": null,
   "metadata": {},
   "outputs": [],
   "source": [
    "def c_blend(a, b, alpha):\n",
    "    \"\"\"Blend images a and b.\n",
    "    \"\"\"\n",
    "    return (1.0-alpha)*a + alpha*b\n",
    "\n",
    "\n",
    "def c_diff(a, b, alpha):\n",
    "    \"\"\"Return the difference between a and b.\n",
    "    \"\"\"\n",
    "    # Note: we still leave alpha as a parameter for reasons\n",
    "    # so we can call this function with the same interface as the others\n",
    "    return a-b\n",
    "\n",
    "\n",
    "def c_horizontal_shade(a, b, alpha):\n",
    "    \"\"\"Form c from top rows of a and bottom rows of b.\n",
    "    \"\"\"\n",
    "    nrows = a.shape[0]\n",
    "    r_index = int(alpha*nrows)\n",
    "    c = np.empty_like(a)\n",
    "    c[:r_index] = a[:r_index]\n",
    "    c[r_index:] = b[r_index:]\n",
    "    return c\n",
    "\n",
    "\n",
    "def c_vertical_shade(a, b, alpha):\n",
    "    \"\"\"Form c from left columns of a and right columns of b.\n",
    "    \"\"\"\n",
    "    ncols = a.shape[1]\n",
    "    c_index = int(alpha*ncols)\n",
    "    c = np.empty_like(a)   \n",
    "    c[:, :c_index] = a[:, :c_index]\n",
    "    c[:, c_index:] = b[:, c_index:]\n",
    "    return c"
   ]
  },
  {
   "cell_type": "markdown",
   "metadata": {},
   "source": [
    "Now that we have defined all our specific comparison functions, we can call any of them via a wrapper utility function that selects which one to uses, and ensures that the color limits are always the actual limiting values of the orginal data. Let's define this utility:"
   ]
  },
  {
   "cell_type": "code",
   "execution_count": null,
   "metadata": {},
   "outputs": [],
   "source": [
    "def compare(a, b, method=c_vertical_shade, alpha=0.5):\n",
    "    \"\"\"Show the comparison between images a and b using the \n",
    "    selected comparison method.\n",
    "    \"\"\"\n",
    "    c = method(a, b, alpha)\n",
    "    cmin = min(a.min(), b.min())\n",
    "    cmax = max(a.max(), b.max())\n",
    "    plt.imshow(c, clim=(cmin, cmax))"
   ]
  },
  {
   "cell_type": "markdown",
   "metadata": {},
   "source": [
    "And using it, we can now call it as follows:"
   ]
  },
  {
   "cell_type": "code",
   "execution_count": null,
   "metadata": {},
   "outputs": [],
   "source": [
    "compare(a, b, alpha=0.250)"
   ]
  },
  {
   "cell_type": "markdown",
   "metadata": {},
   "source": [
    "Or for example:"
   ]
  },
  {
   "cell_type": "code",
   "execution_count": null,
   "metadata": {},
   "outputs": [],
   "source": [
    "compare(a, b, c_horizontal_shade, 0.4)"
   ]
  },
  {
   "cell_type": "markdown",
   "metadata": {},
   "source": [
    "# Exercise\n",
    "\n",
    "Now, using the IPython `interact` facility, you should create a graphical interface to call `compare` with a slider for `alpha` between 0 and 1, and a selector for all the possible comparison methods."
   ]
  },
  {
   "cell_type": "code",
   "execution_count": null,
   "metadata": {},
   "outputs": [],
   "source": [
    "# your code here"
   ]
  }
 ],
 "metadata": {
  "kernelspec": {
   "display_name": "Python 3",
   "language": "python",
   "name": "python3"
  },
  "language_info": {
   "codemirror_mode": {
    "name": "ipython",
    "version": 3
   },
   "file_extension": ".py",
   "mimetype": "text/x-python",
   "name": "python",
   "nbconvert_exporter": "python",
   "pygments_lexer": "ipython3",
   "version": "3.7.1"
  }
 },
 "nbformat": 4,
 "nbformat_minor": 1
}
