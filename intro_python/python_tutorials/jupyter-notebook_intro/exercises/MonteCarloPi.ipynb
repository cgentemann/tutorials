{
 "cells": [
  {
   "cell_type": "markdown",
   "metadata": {},
   "source": [
    "# Simple generation of $\\pi$ via Monte Carlo integration\n",
    "\n",
    "We compute $\\pi$ as the area of a unit circle (radius=1), and we compute this area by\n",
    "integration:\n",
    "\n",
    "$$\n",
    "\\pi = 4\\int_0^1{\\sqrt{1-x^2}}\n",
    "$$\n",
    "\n",
    "What does this mean? We're taking thin vertical slices of a quarter-circle, and measuring the height of each to see how much area the segment covers.\n",
    "\n",
    "![quarter circle with vertical slices](circle_integrate.png)\n",
    "\n",
    "This integral can be then done via Monte Carlo integration: pick random values of $x$, calculate $\\sqrt{1-x^2}$ for each, and average these values.\n",
    "\n",
    "Define a function that approximates pi by averaging $N$ random samples of the integrand.\n",
    "\n",
    "*Hint* use the math and random modules from the standard library."
   ]
  },
  {
   "cell_type": "code",
   "execution_count": null,
   "metadata": {},
   "outputs": [],
   "source": [
    "import math\n",
    "import random\n",
    "\n",
    "def m_pi(n = 100000):\n",
    "    \"\"\"Approximate pi via monte carlo integration\"\"\"\n",
    "    # Your code here"
   ]
  },
  {
   "cell_type": "markdown",
   "metadata": {},
   "source": [
    "Print the results for the default sampling of $N=100,000$, and check the accuracy:"
   ]
  },
  {
   "cell_type": "code",
   "execution_count": null,
   "metadata": {},
   "outputs": [],
   "source": [
    "print('π =', math.pi)\n",
    "approx = m_pi()\n",
    "print('π ~', approx)\n",
    "print('relative error: %g %% ' % (100*abs((approx-math.pi)/math.pi)) )"
   ]
  },
  {
   "cell_type": "markdown",
   "metadata": {},
   "source": [
    "Think about extending this to multiple dimensions. The volume of a hypersphere,\n",
    "\n",
    "$$\n",
    "  V_D = \\int dx_1 \\int \\dots \\int dx_D \\, \\sqrt{1 - \\sum_{i=1}^D x_i^2},\n",
    "$$\n",
    "\n",
    "can be [computed in closed form](https://en.wikipedia.org/wiki/Volume_of_an_n-ball#The_volume). How would you do this with Monte Carlo integration? What would be the advantage?"
   ]
  }
 ],
 "metadata": {
  "kernelspec": {
   "display_name": "Python 3",
   "language": "python",
   "name": "python3"
  },
  "language_info": {
   "codemirror_mode": {
    "name": "ipython",
    "version": 3
   },
   "file_extension": ".py",
   "mimetype": "text/x-python",
   "name": "python",
   "nbconvert_exporter": "python",
   "pygments_lexer": "ipython3",
   "version": "3.5.2"
  }
 },
 "nbformat": 4,
 "nbformat_minor": 1
}
