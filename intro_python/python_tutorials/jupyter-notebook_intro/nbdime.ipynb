{
 "cells": [
  {
   "cell_type": "markdown",
   "metadata": {},
   "source": [
    "# nbdime - Notebook Diffing and Merging\n",
    "\n",
    "nbdime is a Python package for comparing the differences between two Notebooks. It can give you informative reports about changes at the command-line, and can also show a side-by-side comparison in the browser. When you have Notebooks in version control (e.g. git), it can also help you deal with resolving conflicting changes:\n",
    " - It uses the knowledge of the notebook format to make informed decisions about which changes are actually conflicting.\n",
    " - It ensures that conflicts can be presented in a workable Notebook (naive conflict resolution can often make the Notebook file  invalid).\n",
    " \n",
    "This intro should help get you set up with nbdime, and how and when to use it."
   ]
  },
  {
   "cell_type": "markdown",
   "metadata": {},
   "source": [
    "## Installation\n",
    "\n",
    "The preferred way of installing nbdime is with `pip`:"
   ]
  },
  {
   "cell_type": "code",
   "execution_count": null,
   "metadata": {
    "tags": [
     "nbval-skip"
    ]
   },
   "outputs": [],
   "source": [
    "!pip install nbdime"
   ]
  },
  {
   "cell_type": "markdown",
   "metadata": {},
   "source": [
    "## Usage\n",
    "\n",
    "After installing nbdime, the following commands will be available from your command-line:\n",
    " - `nbshow`: This will print a structured view of your Notebook to the terminal. It also allows you to filter on source / outputs for a tidier presentation.\n",
    " - `nbdiff <Notebook A> <Notebook B>`: This will compare two Notebooks, and print a structured report about the changes to the terminal.\n",
    " - `nbdiff-web <Notebook A> <Notebook B>`: This will show you a side-by-side comparison of two Notebooks in the web-browser:"
   ]
  },
  {
   "cell_type": "markdown",
   "metadata": {},
   "source": [
    "A notebook is a JSON document that's not the easiest to read raw:"
   ]
  },
  {
   "cell_type": "code",
   "execution_count": null,
   "metadata": {},
   "outputs": [],
   "source": [
    "with open('nbdime-before.ipynb') as f:\n",
    "    for line in f.readlines()[:64]:\n",
    "        line = line.rstrip()\n",
    "        if len(line) > 80:\n",
    "            line = line[:64] + '...(%i chars)' % len(line)\n",
    "        print(line)"
   ]
  },
  {
   "cell_type": "markdown",
   "metadata": {},
   "source": [
    "`nbshow` gives you a nice readable format, and can focus on particular information,\n",
    "such as showing only source code with `-s`:"
   ]
  },
  {
   "cell_type": "code",
   "execution_count": null,
   "metadata": {},
   "outputs": [],
   "source": [
    "!nbshow nbdime-after.ipynb -s"
   ]
  },
  {
   "cell_type": "markdown",
   "metadata": {},
   "source": [
    "nbdime also provides diffing commands. `nbdiff` shows you a diff in the terminal, similarly formatted to `nbshow`:"
   ]
  },
  {
   "cell_type": "code",
   "execution_count": null,
   "metadata": {},
   "outputs": [],
   "source": [
    "!nbdiff nbdime-before.ipynb nbdime-after.ipynb"
   ]
  },
  {
   "cell_type": "markdown",
   "metadata": {},
   "source": [
    "And `nbdiff-web` opens a browser to show a rendered diff, including side-by-side images:"
   ]
  },
  {
   "cell_type": "code",
   "execution_count": null,
   "metadata": {},
   "outputs": [],
   "source": [
    "!nbdiff-web nbdime-before.ipynb nbdime-after.ipynb"
   ]
  },
  {
   "cell_type": "markdown",
   "metadata": {},
   "source": [
    "## Git integration\n",
    "\n",
    "If you want nbdime to integrate with git, you will have to tell git about how to use nbdime. You can configure this manually, but for convenience nbdime includes some commands to register itself in the most common configuration. Starting out, you simply need to run:"
   ]
  },
  {
   "cell_type": "code",
   "execution_count": null,
   "metadata": {
    "collapsed": true
   },
   "outputs": [],
   "source": [
    "!nbdime config-git --enable --global"
   ]
  },
  {
   "cell_type": "markdown",
   "metadata": {},
   "source": [
    "With the default configuration, nbdime will automatically be used for `.ipynb` files when:\n",
    " - you call `git diff` on the command-line\n",
    " - git is trying to resolve conflicting changes (*merge conflicts*)\n",
    " \n",
    "It is worth noting that `nbdiff` and `nbdiff-web` can also be used to show you the changes to Notebooks in a git repository. Simply calling `nbdiff-web` without any arguments in your repository will show you the diff for all the Notebooks that have changed:"
   ]
  },
  {
   "cell_type": "code",
   "execution_count": null,
   "metadata": {
    "collapsed": true
   },
   "outputs": [],
   "source": [
    "!nbdiff-web origin/master nbdime.ipynb"
   ]
  }
 ],
 "metadata": {
  "kernelspec": {
   "display_name": "Python 3",
   "language": "python",
   "name": "python3"
  },
  "language_info": {
   "codemirror_mode": {
    "name": "ipython",
    "version": 3
   },
   "file_extension": ".py",
   "mimetype": "text/x-python",
   "name": "python",
   "nbconvert_exporter": "python",
   "pygments_lexer": "ipython3",
   "version": "3.6.0"
  }
 },
 "nbformat": 4,
 "nbformat_minor": 2
}
