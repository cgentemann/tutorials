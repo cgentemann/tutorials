{
 "cells": [
  {
   "cell_type": "markdown",
   "metadata": {
    "slideshow": {
     "slide_type": "slide"
    }
   },
   "source": [
    "# SC57 - A tutorial introduction to xarray\n",
    "  \n",
    "  Thursday, 27th April, 15:30–17:00 / Room -2.91  \n",
    "  \n",
    "**Convenors**: Edward Byers, Matthew Gidden, Fabien Maussion\n",
    "\n",
    "**Notebook**: https://github.com/iiasa/xarray_tutorial"
   ]
  },
  {
   "cell_type": "markdown",
   "metadata": {
    "slideshow": {
     "slide_type": "-"
    }
   },
   "source": [
    "Install on conda:\n",
    "\n",
    "```\n",
    "conda config --add channels conda-forge\n",
    "conda install xarray jupyter\n",
    "conda install matplotlib dask seaborn cartopy\n",
    "```"
   ]
  }
 ],
 "metadata": {
  "celltoolbar": "Slideshow",
  "kernelspec": {
   "display_name": "Python 3",
   "language": "python",
   "name": "python3"
  },
  "language_info": {
   "codemirror_mode": {
    "name": "ipython",
    "version": 3
   },
   "file_extension": ".py",
   "mimetype": "text/x-python",
   "name": "python",
   "nbconvert_exporter": "python",
   "pygments_lexer": "ipython3",
   "version": "3.5.2"
  }
 },
 "nbformat": 4,
 "nbformat_minor": 2
}
