{
 "cells": [
  {
   "cell_type": "code",
   "execution_count": 30,
   "metadata": {},
   "outputs": [],
   "source": [
    "from netCDF4 import Dataset  # http://code.google.com/p/netcdf4-python/\n",
    "import os\n",
    "####################you will need to change some paths here!#####################\n",
    "#list of input files\n",
    "dir_in='f:/data/cruise_data/saildrone/baja-2018/daily_files/sd-1002/2018/'\n",
    "#output files\n",
    "filename_out_nc='F:/data/cruise_data/saildrone/baja-2018/daily_files/sd-1002/data_so_far.nc'\n",
    "filename_out_kml='F:/data/cruise_data/saildrone/baja-2018/daily_files/sd-1002/data_so_far.kml'\n",
    "#################################################################################"
   ]
  },
  {
   "cell_type": "code",
   "execution_count": 31,
   "metadata": {},
   "outputs": [],
   "source": [
    "import datetime as dt\n",
    "import xarray as xr\n",
    "from datetime import datetime\n",
    "import pandas\n",
    "import matplotlib as mpl\n",
    "#import openpyxl\n",
    "#from mpl_toolkits.basemap import Basemap\n",
    "import matplotlib.pyplot as plt\n",
    "import numpy as np\n",
    "#from math import cos, radians"
   ]
  },
  {
   "cell_type": "code",
   "execution_count": 32,
   "metadata": {},
   "outputs": [],
   "source": [
    "#get all filenames\n",
    "for root, dirs, files in os.walk(dir_in, topdown=False):\n",
    "    for name in files:\n",
    "        fname_in=os.path.join(root, name) "
   ]
  },
  {
   "cell_type": "code",
   "execution_count": 33,
   "metadata": {},
   "outputs": [
    {
     "name": "stdout",
     "output_type": "stream",
     "text": [
      "f:/data/cruise_data/saildrone/baja-2018/daily_files/sd-1002/2018/04\\11\\saildrone-gen_4-baja_2018-EP-sd1002-20180411T1800-20180411T2359-1_min-v1.1523556150.nc\n",
      "f:/data/cruise_data/saildrone/baja-2018/daily_files/sd-1002/2018/04\\12\\saildrone-gen_4-baja_2018-EP-sd1002-20180412T0000-20180412T0559-1_min-v1.1523556160.nc\n",
      "f:/data/cruise_data/saildrone/baja-2018/daily_files/sd-1002/2018/04\\12\\saildrone-gen_4-baja_2018-EP-sd1002-20180412T0600-20180412T1159-1_min-v1.1523556169.nc\n",
      "f:/data/cruise_data/saildrone/baja-2018/daily_files/sd-1002/2018/04\\12\\saildrone-gen_4-baja_2018-EP-sd1002-20180412T1200-20180412T1759-1_min-v1.1523559604.nc\n",
      "f:/data/cruise_data/saildrone/baja-2018/daily_files/sd-1002/2018/04\\12\\saildrone-gen_4-baja_2018-EP-sd1002-20180412T1800-20180412T2359-1_min-v1.1523581204.nc\n",
      "f:/data/cruise_data/saildrone/baja-2018/daily_files/sd-1002/2018/04\\13\\saildrone-gen_4-baja_2018-EP-sd1002-20180413T0000-20180413T0559-1_min-v1.1523602803.nc\n",
      "f:/data/cruise_data/saildrone/baja-2018/daily_files/sd-1002/2018/04\\13\\saildrone-gen_4-baja_2018-EP-sd1002-20180413T0600-20180413T1159-1_min-v1.1523624403.nc\n",
      "f:/data/cruise_data/saildrone/baja-2018/daily_files/sd-1002/2018/04\\13\\saildrone-gen_4-baja_2018-EP-sd1002-20180413T1200-20180413T1759-1_min-v1.1523646004.nc\n",
      "f:/data/cruise_data/saildrone/baja-2018/daily_files/sd-1002/2018/04\\13\\saildrone-gen_4-baja_2018-EP-sd1002-20180413T1800-20180413T2359-1_min-v1.1523667603.nc\n",
      "f:/data/cruise_data/saildrone/baja-2018/daily_files/sd-1002/2018/04\\14\\saildrone-gen_4-baja_2018-EP-sd1002-20180414T0000-20180414T0559-1_min-v1.1523689204.nc\n",
      "f:/data/cruise_data/saildrone/baja-2018/daily_files/sd-1002/2018/04\\14\\saildrone-gen_4-baja_2018-EP-sd1002-20180414T0600-20180414T1159-1_min-v1.1523710804.nc\n",
      "f:/data/cruise_data/saildrone/baja-2018/daily_files/sd-1002/2018/04\\14\\saildrone-gen_4-baja_2018-EP-sd1002-20180414T1200-20180414T1759-1_min-v1.1523732404.nc\n",
      "f:/data/cruise_data/saildrone/baja-2018/daily_files/sd-1002/2018/04\\14\\saildrone-gen_4-baja_2018-EP-sd1002-20180414T1800-20180414T2359-1_min-v1.1523754004.nc\n",
      "f:/data/cruise_data/saildrone/baja-2018/daily_files/sd-1002/2018/04\\15\\saildrone-gen_4-baja_2018-EP-sd1002-20180415T0000-20180415T0559-1_min-v1.1523775604.nc\n",
      "f:/data/cruise_data/saildrone/baja-2018/daily_files/sd-1002/2018/04\\15\\saildrone-gen_4-baja_2018-EP-sd1002-20180415T0600-20180415T1159-1_min-v1.1523797203.nc\n",
      "f:/data/cruise_data/saildrone/baja-2018/daily_files/sd-1002/2018/04\\15\\saildrone-gen_4-baja_2018-EP-sd1002-20180415T1200-20180415T1759-1_min-v1.1523818803.nc\n",
      "f:/data/cruise_data/saildrone/baja-2018/daily_files/sd-1002/2018/04\\15\\saildrone-gen_4-baja_2018-EP-sd1002-20180415T1800-20180415T2359-1_min-v1.1523840404.nc\n",
      "f:/data/cruise_data/saildrone/baja-2018/daily_files/sd-1002/2018/04\\16\\saildrone-gen_4-baja_2018-EP-sd1002-20180416T0000-20180416T0559-1_min-v1.1523862003.nc\n",
      "f:/data/cruise_data/saildrone/baja-2018/daily_files/sd-1002/2018/04\\16\\saildrone-gen_4-baja_2018-EP-sd1002-20180416T0600-20180416T1159-1_min-v1.1523883604.nc\n",
      "f:/data/cruise_data/saildrone/baja-2018/daily_files/sd-1002/2018/04\\16\\saildrone-gen_4-baja_2018-EP-sd1002-20180416T1200-20180416T1759-1_min-v1.1523905203.nc\n",
      "f:/data/cruise_data/saildrone/baja-2018/daily_files/sd-1002/2018/04\\16\\saildrone-gen_4-baja_2018-EP-sd1002-20180416T1800-20180416T2359-1_min-v1.1523926803.nc\n",
      "f:/data/cruise_data/saildrone/baja-2018/daily_files/sd-1002/2018/04\\17\\saildrone-gen_4-baja_2018-EP-sd1002-20180417T0000-20180417T0559-1_min-v1.1523948403.nc\n",
      "f:/data/cruise_data/saildrone/baja-2018/daily_files/sd-1002/2018/04\\17\\saildrone-gen_4-baja_2018-EP-sd1002-20180417T0600-20180417T1159-1_min-v1.1523970003.nc\n",
      "f:/data/cruise_data/saildrone/baja-2018/daily_files/sd-1002/2018/04\\17\\saildrone-gen_4-baja_2018-EP-sd1002-20180417T1200-20180417T1759-1_min-v1.1523991603.nc\n",
      "f:/data/cruise_data/saildrone/baja-2018/daily_files/sd-1002/2018/04\\17\\saildrone-gen_4-baja_2018-EP-sd1002-20180417T1800-20180417T2359-1_min-v1.1524013204.nc\n",
      "f:/data/cruise_data/saildrone/baja-2018/daily_files/sd-1002/2018/04\\18\\saildrone-gen_4-baja_2018-EP-sd1002-20180418T0000-20180418T0559-1_min-v1.1524034803.nc\n",
      "f:/data/cruise_data/saildrone/baja-2018/daily_files/sd-1002/2018/04\\18\\saildrone-gen_4-baja_2018-EP-sd1002-20180418T0600-20180418T1159-1_min-v1.1524056404.nc\n",
      "f:/data/cruise_data/saildrone/baja-2018/daily_files/sd-1002/2018/04\\18\\saildrone-gen_4-baja_2018-EP-sd1002-20180418T1200-20180418T1759-1_min-v1.1524078004.nc\n",
      "f:/data/cruise_data/saildrone/baja-2018/daily_files/sd-1002/2018/04\\18\\saildrone-gen_4-baja_2018-EP-sd1002-20180418T1800-20180418T2359-1_min-v1.1524099603.nc\n",
      "f:/data/cruise_data/saildrone/baja-2018/daily_files/sd-1002/2018/04\\19\\saildrone-gen_4-baja_2018-EP-sd1002-20180419T0000-20180419T0559-1_min-v1.1524121204.nc\n",
      "f:/data/cruise_data/saildrone/baja-2018/daily_files/sd-1002/2018/04\\19\\saildrone-gen_4-baja_2018-EP-sd1002-20180419T0600-20180419T1159-1_min-v1.1524142803.nc\n",
      "f:/data/cruise_data/saildrone/baja-2018/daily_files/sd-1002/2018/04\\19\\saildrone-gen_4-baja_2018-EP-sd1002-20180419T1200-20180419T1759-1_min-v1.1524164403.nc\n",
      "f:/data/cruise_data/saildrone/baja-2018/daily_files/sd-1002/2018/04\\19\\saildrone-gen_4-baja_2018-EP-sd1002-20180419T1800-20180419T2359-1_min-v1.1524186004.nc\n",
      "f:/data/cruise_data/saildrone/baja-2018/daily_files/sd-1002/2018/04\\20\\saildrone-gen_4-baja_2018-EP-sd1002-20180420T0000-20180420T0559-1_min-v1.1524207603.nc\n",
      "f:/data/cruise_data/saildrone/baja-2018/daily_files/sd-1002/2018/04\\20\\saildrone-gen_4-baja_2018-EP-sd1002-20180420T0600-20180420T1159-1_min-v1.1524229204.nc\n",
      "f:/data/cruise_data/saildrone/baja-2018/daily_files/sd-1002/2018/04\\20\\saildrone-gen_4-baja_2018-EP-sd1002-20180420T1200-20180420T1759-1_min-v1.1524250804.nc\n",
      "f:/data/cruise_data/saildrone/baja-2018/daily_files/sd-1002/2018/04\\20\\saildrone-gen_4-baja_2018-EP-sd1002-20180420T1800-20180420T2359-1_min-v1.1524272404.nc\n",
      "f:/data/cruise_data/saildrone/baja-2018/daily_files/sd-1002/2018/04\\21\\saildrone-gen_4-baja_2018-EP-sd1002-20180421T0000-20180421T0559-1_min-v1.1524294003.nc\n",
      "f:/data/cruise_data/saildrone/baja-2018/daily_files/sd-1002/2018/04\\21\\saildrone-gen_4-baja_2018-EP-sd1002-20180421T0600-20180421T1159-1_min-v1.1524315603.nc\n",
      "f:/data/cruise_data/saildrone/baja-2018/daily_files/sd-1002/2018/04\\21\\saildrone-gen_4-baja_2018-EP-sd1002-20180421T1200-20180421T1759-1_min-v1.1524337203.nc\n",
      "f:/data/cruise_data/saildrone/baja-2018/daily_files/sd-1002/2018/04\\21\\saildrone-gen_4-baja_2018-EP-sd1002-20180421T1800-20180421T2359-1_min-v1.1524358803.nc\n",
      "f:/data/cruise_data/saildrone/baja-2018/daily_files/sd-1002/2018/04\\22\\saildrone-gen_4-baja_2018-EP-sd1002-20180422T0000-20180422T0559-1_min-v1.1524380403.nc\n",
      "f:/data/cruise_data/saildrone/baja-2018/daily_files/sd-1002/2018/04\\22\\saildrone-gen_4-baja_2018-EP-sd1002-20180422T0600-20180422T1159-1_min-v1.1524402003.nc\n",
      "f:/data/cruise_data/saildrone/baja-2018/daily_files/sd-1002/2018/04\\22\\saildrone-gen_4-baja_2018-EP-sd1002-20180422T1200-20180422T1759-1_min-v1.1524423603.nc\n",
      "f:/data/cruise_data/saildrone/baja-2018/daily_files/sd-1002/2018/04\\22\\saildrone-gen_4-baja_2018-EP-sd1002-20180422T1800-20180422T2359-1_min-v1.1524445203.nc\n",
      "f:/data/cruise_data/saildrone/baja-2018/daily_files/sd-1002/2018/04\\23\\saildrone-gen_4-baja_2018-EP-sd1002-20180423T0000-20180423T0559-1_min-v1.1524466803.nc\n",
      "f:/data/cruise_data/saildrone/baja-2018/daily_files/sd-1002/2018/04\\23\\saildrone-gen_4-baja_2018-EP-sd1002-20180423T0600-20180423T1159-1_min-v1.1524488403.nc\n",
      "f:/data/cruise_data/saildrone/baja-2018/daily_files/sd-1002/2018/04\\23\\saildrone-gen_4-baja_2018-EP-sd1002-20180423T1200-20180423T1759-1_min-v1.1524510003.nc\n",
      "f:/data/cruise_data/saildrone/baja-2018/daily_files/sd-1002/2018/04\\23\\saildrone-gen_4-baja_2018-EP-sd1002-20180423T1800-20180423T2359-1_min-v1.1524531603.nc\n",
      "f:/data/cruise_data/saildrone/baja-2018/daily_files/sd-1002/2018/04\\24\\saildrone-gen_4-baja_2018-EP-sd1002-20180424T0000-20180424T0559-1_min-v1.1524553203.nc\n",
      "f:/data/cruise_data/saildrone/baja-2018/daily_files/sd-1002/2018/04\\24\\saildrone-gen_4-baja_2018-EP-sd1002-20180424T0600-20180424T1159-1_min-v1.1524574803.nc\n",
      "f:/data/cruise_data/saildrone/baja-2018/daily_files/sd-1002/2018/04\\24\\saildrone-gen_4-baja_2018-EP-sd1002-20180424T1200-20180424T1759-1_min-v1.1524596403.nc\n"
     ]
    },
    {
     "name": "stdout",
     "output_type": "stream",
     "text": [
      "f:/data/cruise_data/saildrone/baja-2018/daily_files/sd-1002/2018/04\\24\\saildrone-gen_4-baja_2018-EP-sd1002-20180424T1800-20180424T2359-1_min-v1.1524618003.nc\n",
      "f:/data/cruise_data/saildrone/baja-2018/daily_files/sd-1002/2018/04\\25\\saildrone-gen_4-baja_2018-EP-sd1002-20180425T0000-20180425T0559-1_min-v1.1524639604.nc\n",
      "f:/data/cruise_data/saildrone/baja-2018/daily_files/sd-1002/2018/04\\25\\saildrone-gen_4-baja_2018-EP-sd1002-20180425T0600-20180425T1159-1_min-v1.1524661203.nc\n",
      "f:/data/cruise_data/saildrone/baja-2018/daily_files/sd-1002/2018/04\\25\\saildrone-gen_4-baja_2018-EP-sd1002-20180425T1200-20180425T1759-1_min-v1.1524682804.nc\n",
      "f:/data/cruise_data/saildrone/baja-2018/daily_files/sd-1002/2018/04\\25\\saildrone-gen_4-baja_2018-EP-sd1002-20180425T1800-20180425T2359-1_min-v1.1524704404.nc\n",
      "f:/data/cruise_data/saildrone/baja-2018/daily_files/sd-1002/2018/04\\26\\saildrone-gen_4-baja_2018-EP-sd1002-20180426T0000-20180426T0559-1_min-v1.1524726003.nc\n",
      "f:/data/cruise_data/saildrone/baja-2018/daily_files/sd-1002/2018/04\\26\\saildrone-gen_4-baja_2018-EP-sd1002-20180426T0600-20180426T1159-1_min-v1.1524747604.nc\n",
      "f:/data/cruise_data/saildrone/baja-2018/daily_files/sd-1002/2018/04\\26\\saildrone-gen_4-baja_2018-EP-sd1002-20180426T1200-20180426T1759-1_min-v1.1524769203.nc\n",
      "f:/data/cruise_data/saildrone/baja-2018/daily_files/sd-1002/2018/04\\26\\saildrone-gen_4-baja_2018-EP-sd1002-20180426T1800-20180426T2359-1_min-v1.1524790804.nc\n",
      "f:/data/cruise_data/saildrone/baja-2018/daily_files/sd-1002/2018/04\\27\\saildrone-gen_4-baja_2018-EP-sd1002-20180427T0000-20180427T0559-1_min-v1.1524812403.nc\n",
      "f:/data/cruise_data/saildrone/baja-2018/daily_files/sd-1002/2018/04\\27\\saildrone-gen_4-baja_2018-EP-sd1002-20180427T0600-20180427T1159-1_min-v1.1524834003.nc\n",
      "f:/data/cruise_data/saildrone/baja-2018/daily_files/sd-1002/2018/04\\27\\saildrone-gen_4-baja_2018-EP-sd1002-20180427T1200-20180427T1759-1_min-v1.1524855604.nc\n",
      "f:/data/cruise_data/saildrone/baja-2018/daily_files/sd-1002/2018/04\\27\\saildrone-gen_4-baja_2018-EP-sd1002-20180427T1800-20180427T2359-1_min-v1.1524877203.nc\n",
      "f:/data/cruise_data/saildrone/baja-2018/daily_files/sd-1002/2018/04\\28\\saildrone-gen_4-baja_2018-EP-sd1002-20180428T0000-20180428T0559-1_min-v1.1524898803.nc\n",
      "f:/data/cruise_data/saildrone/baja-2018/daily_files/sd-1002/2018/04\\28\\saildrone-gen_4-baja_2018-EP-sd1002-20180428T0600-20180428T1159-1_min-v1.1524920403.nc\n",
      "f:/data/cruise_data/saildrone/baja-2018/daily_files/sd-1002/2018/04\\28\\saildrone-gen_4-baja_2018-EP-sd1002-20180428T1200-20180428T1759-1_min-v1.1524942004.nc\n",
      "f:/data/cruise_data/saildrone/baja-2018/daily_files/sd-1002/2018/04\\28\\saildrone-gen_4-baja_2018-EP-sd1002-20180428T1800-20180428T2359-1_min-v1.1524963604.nc\n",
      "f:/data/cruise_data/saildrone/baja-2018/daily_files/sd-1002/2018/04\\29\\saildrone-gen_4-baja_2018-EP-sd1002-20180429T0000-20180429T0559-1_min-v1.1524985203.nc\n",
      "f:/data/cruise_data/saildrone/baja-2018/daily_files/sd-1002/2018/04\\29\\saildrone-gen_4-baja_2018-EP-sd1002-20180429T0600-20180429T1159-1_min-v1.1525006804.nc\n",
      "f:/data/cruise_data/saildrone/baja-2018/daily_files/sd-1002/2018/04\\29\\saildrone-gen_4-baja_2018-EP-sd1002-20180429T1200-20180429T1759-1_min-v1.1525028404.nc\n",
      "f:/data/cruise_data/saildrone/baja-2018/daily_files/sd-1002/2018/04\\29\\saildrone-gen_4-baja_2018-EP-sd1002-20180429T1800-20180429T2359-1_min-v1.1525050003.nc\n",
      "f:/data/cruise_data/saildrone/baja-2018/daily_files/sd-1002/2018/04\\30\\saildrone-gen_4-baja_2018-EP-sd1002-20180430T0000-20180430T0559-1_min-v1.1525071604.nc\n",
      "f:/data/cruise_data/saildrone/baja-2018/daily_files/sd-1002/2018/04\\30\\saildrone-gen_4-baja_2018-EP-sd1002-20180430T0600-20180430T1159-1_min-v1.1525093203.nc\n",
      "f:/data/cruise_data/saildrone/baja-2018/daily_files/sd-1002/2018/04\\30\\saildrone-gen_4-baja_2018-EP-sd1002-20180430T1200-20180430T1759-1_min-v1.1525114804.nc\n",
      "f:/data/cruise_data/saildrone/baja-2018/daily_files/sd-1002/2018/04\\30\\saildrone-gen_4-baja_2018-EP-sd1002-20180430T1800-20180430T2359-1_min-v1.1525136403.nc\n",
      "f:/data/cruise_data/saildrone/baja-2018/daily_files/sd-1002/2018/05\\01\\saildrone-gen_4-baja_2018-EP-sd1002-20180501T0000-20180501T0559-1_min-v1.1525158003.nc\n",
      "f:/data/cruise_data/saildrone/baja-2018/daily_files/sd-1002/2018/05\\01\\saildrone-gen_4-baja_2018-EP-sd1002-20180501T0600-20180501T1159-1_min-v1.1525179603.nc\n"
     ]
    }
   ],
   "source": [
    "#this goes through each file, concatonates each file and outputs one big file\n",
    "#the flag == istart_flag is set to zero so that on the first iteration of the loop the array dataset is initialized\n",
    "istart_flag = 0 \n",
    "for root, dirs, files in os.walk(dir_in, topdown=False):\n",
    "    for name in files:\n",
    "        filename_usv=os.path.join(root, name)\n",
    "        print(filename_usv)\n",
    "        dsx = xr.open_dataset(filename_usv)\n",
    "        dataset2 = xr.open_dataset(filename_usv)\n",
    "        if istart_flag == 0:\n",
    "            dataset = dataset2\n",
    "            istart_flag = 1\n",
    "            continue\n",
    "        dataset = xr.concat([dataset, dataset2],'obs')\n",
    "dataset.to_netcdf(filename_out_nc)\n"
   ]
  },
  {
   "cell_type": "code",
   "execution_count": 34,
   "metadata": {},
   "outputs": [
    {
     "data": {
      "text/plain": [
       "37.8124192"
      ]
     },
     "execution_count": 34,
     "metadata": {},
     "output_type": "execute_result"
    }
   ],
   "source": [
    "#lats=dataset['LAT']\n",
    "#lons=dataset['LON']\n",
    "ilen=(len(dataset.LAT['obs']))\n",
    "dataset.LAT[0,1].values*1\n"
   ]
  },
  {
   "cell_type": "code",
   "execution_count": 35,
   "metadata": {},
   "outputs": [],
   "source": [
    "#write a KML path file with the Saildrone data in it\n",
    "with open(filename_out_kml, \"w\") as f:\n",
    "#    f.write(\"<?xml version=\"1.0\" encoding=\"UTF-8\"?>\\n\")\n",
    "    f.write('<Document>\\n')\n",
    "    f.write('\\t<name>Paths</name>\\n')\n",
    "    f.write('\\t<Style id=\"yellowLine\">\\n')\n",
    "    f.write('\\t\\t<LineStyle>\\n')\n",
    "    f.write('\\t\\t\\t<color>7f00ffff</color>\\n')\n",
    "    f.write('\\t\\t\\t<width>4</width>\\n')\n",
    "    f.write('\\t\\t</LineStyle>\\n')\n",
    "    f.write('\\t</Style>\\n')\n",
    "    f.write('\\t<Placemark>\\n')\n",
    "    f.write('\\t\\t<LineString>\\n')\n",
    "    f.write('\\t\\t<coordinates>\\n')\n",
    "    for i in range(0,ilen):\n",
    "        f.write(str(dataset.LON[0,i].values*1) + ',' + str(dataset.LAT[0,i].values*1) + ',100 \\n')\n",
    "    f.write('\\t\\t</coordinates> \\n')\n",
    "    f.write('\\t\\t</LineString>\\n')\n",
    "    f.write('\\t</Placemark>\\n')\n",
    "    f.write('</Document>')\n",
    "     "
   ]
  },
  {
   "cell_type": "code",
   "execution_count": 36,
   "metadata": {},
   "outputs": [
    {
     "name": "stdout",
     "output_type": "stream",
     "text": [
      "http://opendap.jpl.nasa.gov/opendap/OceanTemperature/ghrsst/data/GDS2/L4/GLOB/JPL/MUR/v4.1/2018/120/20180430090000-JPL-L4_GHRSST-SSTfnd-MUR-GLOB-v02.0-fv04.1.nc\n",
      "4999 6999 10998 12998\n",
      "(2000, 2000)\n"
     ]
    }
   ],
   "source": [
    "#saildrone box, get todays mur data to plot on google earth\n",
    "minlon = -130\n",
    "maxlon = -110\n",
    "minlat = 20\n",
    "maxlat = 40\n",
    "#use mur grid to find what part of array to read \n",
    "dx=360./36000.\n",
    "dy=180./17999.\n",
    "ix1=int(round((minlon+(180.-dx))/dx))\n",
    "ix2=int(round((maxlon+(180.-dx))/dx))\n",
    "iy1=int(round((minlat+(90.-dy))/dy))\n",
    "iy2=int(round((maxlat+(90.-dy))/dy))\n",
    "\n",
    "#get todays date and make strings of days to use in filename\n",
    "ts_now = dt.datetime.today() - dt.timedelta(days=1)\n",
    "#print(d)\n",
    "#ts_now=dt.datetime.now()\n",
    "#ts_now = ts_now\n",
    "syr=str(ts_now.year)\n",
    "smon=str(ts_now.month)\n",
    "sdym=str(ts_now.day)\n",
    "sjdy=str(ts_now.timetuple().tm_yday)\n",
    "\n",
    "#construct filename\n",
    "#https://data.nodc.noaa.gov/thredds/dodsC/ghrsst/L2P/GOES15/OSPO/2018/083/20180324223000-OSPO-L2P_GHRSST-SSTskin-GOES15-North-v02.0-fv01.0.nc.html\n",
    "filename_mur = 'http://opendap.jpl.nasa.gov/opendap/OceanTemperature/ghrsst/data/GDS2/L4/GLOB/JPL/MUR/v4.1/' \\\n",
    "    + syr + '/' + sjdy.zfill(3) + '/' + syr + smon.zfill(2) + sdym.zfill(2) + \\\n",
    "    '090000-JPL-L4_GHRSST-SSTfnd-MUR-GLOB-v02.0-fv04.1.nc'\n",
    "print(filename_mur)\n",
    "print(ix1,ix2,iy1,iy2)\n",
    "#read data into xarray dataset_mur then subset sst    \n",
    "dataset_mur = xr.open_dataset(filename_mur)\n",
    "sst=dataset_mur.analysed_sst[0,iy1:iy2,ix1:ix2]\n",
    "print(sst.shape)\n",
    "#output to kml file now, matlab code somewhere that does this I think look on f drive\n",
    "\n",
    "\n"
   ]
  },
  {
   "cell_type": "code",
   "execution_count": null,
   "metadata": {},
   "outputs": [],
   "source": [
    "#read in viirs data files for last 3 days for region and overwrite with newer data\n",
    "#see ken's email about opendap access for viirs\n",
    "f1='F:/data/cruise_data/saildrone/baja-2018/viirs/podaac-ftp.jpl.nasa.gov/'\n",
    "f2='allData/ghrsst/data/GDS2/L3U/VIIRS_NPP/OSPO/v2.41/2018/001/20180101000000'\n",
    "f3='-OSPO-L3U_GHRSST-SSTsubskin-VIIRS_NPP-ACSPO_V2.41-v02.0-fv01.0.nc'\n",
    "filename_viirs=f1+f2+f3\n",
    "dataset_viirs = xr.open_dataset(filename_viirs)\n"
   ]
  },
  {
   "cell_type": "code",
   "execution_count": 219,
   "metadata": {},
   "outputs": [
    {
     "data": {
      "text/plain": [
       "<xarray.DataArray 'sea_surface_temperature' (lat: 1000, lon: 1500)>\n",
       "array([[-4., -4., -4., ..., -4., -4., -4.],\n",
       "       [-4., -4., -4., ..., -4., -4., -4.],\n",
       "       [-4., -4., -4., ..., -4., -4., -4.],\n",
       "       ...,\n",
       "       [-4., -4., -4., ..., -4., -4., -4.],\n",
       "       [-4., -4., -4., ..., -4., -4., -4.],\n",
       "       [-4., -4., -4., ..., -4., -4., -4.]], dtype=float32)\n",
       "Coordinates:\n",
       "  * lon      (lon) float32 -130.01 -129.99 -129.97 -129.95 -129.93001 ...\n",
       "  * lat      (lat) float32 40.010002 39.99 39.97 39.95 39.93 39.91 39.89 ...\n",
       "    time     datetime64[ns] 2018-01-01\n",
       "Attributes:\n",
       "    comment:        SST obtained by regression with buoy measurements, sensit...\n",
       "    long_name:      sea surface sub-skin temperature\n",
       "    source:         NOAA\n",
       "    standard_name:  sea surface sub-skin temperature\n",
       "    units:          kelvin\n",
       "    valid_max:      32767\n",
       "    valid_min:      -32767"
      ]
     },
     "execution_count": 219,
     "metadata": {},
     "output_type": "execute_result"
    }
   ],
   "source": [
    "#dataset\n",
    "#d2=dataset[df.lon>-130 and df.lon<100 and df.lat<40 and df.lat>20]\n",
    "sst=dataset.sea_surface_temperature[0,2499:3499,2499:3999]\n",
    "qual=dataset.quality_level[0,2499:3499,2499:3999]\n",
    "xlon=dataset.lon[2499:3999]\n",
    "xlat=dataset.lat[2499:3499]\n",
    "lons,lats = np.meshgrid(xlon,xlat)\n",
    "\n",
    "#sst.mean()\n",
    "sst.fillna(-4.0)\n",
    "#lons.shape\n",
    "#sst.shape\n",
    "#print(xlat.values[3499])\n",
    "#print(xlon.min())"
   ]
  },
  {
   "cell_type": "code",
   "execution_count": null,
   "metadata": {},
   "outputs": [],
   "source": [
    "f1='F:/data/cruise_data/saildrone/baja-2018/viirs/podaac-ftp.jpl.nasa.gov/'\n",
    "f2='allData/ghrsst/data/GDS2/L3U/VIIRS_NPP/OSPO/v2.41/2018/001/20180101000000'\n",
    "f3='-OSPO-L3U_GHRSST-SSTsubskin-VIIRS_NPP-ACSPO_V2.41-v02.0-fv01.0.nc'\n",
    "filename_viirs=f1+f2+f3\n",
    "dataset_viirs = xr.open_dataset(filename_viirs)\n",
    "#df = dataset.to_dataframe()"
   ]
  },
  {
   "cell_type": "code",
   "execution_count": 220,
   "metadata": {},
   "outputs": [
    {
     "data": {
      "image/png": "[encoded data removed]",
      "text/plain": [
       "<matplotlib.figure.Figure at 0x10d2f6d8>"
      ]
     },
     "metadata": {},
     "output_type": "display_data"
    }
   ],
   "source": [
    "from mpl_toolkits.basemap import Basemap\n",
    "import matplotlib.pyplot as plt\n",
    "\n",
    "# Create map\n",
    "#map = Basemap(projection='merc', lat_0 = 45, lon_0 = -130,    resolution = 'l', area_thresh = 0.1,    \n",
    "#              llcrnrlon=-180.25, llcrnrlat=30.0,urcrnrlon=-115.25, urcrnrlat=62.75)\n",
    "#map.fillcontinents(color = 'coral')\n",
    "#x,y = map(dataset.lon.values,dataset.lat.values)\n",
    "# = np.linspace(270, 310, 21)\n",
    "#cs=map.pcolormesh(lons,lats, sst, cmap=plt.cm.jet)\n",
    "fig, ax = plt.subplots()\n",
    "extent = (xlon.min(), xlon.max(), xlat.min(), xlat.max())\n",
    "im = ax.pcolormesh(xlon,xlat,sst-273.15, cmap=plt.cm.jet, vmin=10, vmax=30)\n",
    "\n",
    "\n",
    "#fig1 = plt.figure()\n",
    "#cs = map.pcolor(x,y,sst,cmap=plt.cm.jet)\n",
    "#map.drawcoastlines()\n",
    "plt.show()"
   ]
  },
  {
   "cell_type": "code",
   "execution_count": null,
   "metadata": {},
   "outputs": [],
   "source": []
  }
 ],
 "metadata": {
  "kernelspec": {
   "display_name": "Python 3",
   "language": "python",
   "name": "python3"
  }
 },
 "nbformat": 4,
 "nbformat_minor": 2
}
