{
 "cells": [
  {
   "cell_type": "code",
   "execution_count": 1,
   "metadata": {
    "slideshow": {
     "slide_type": "skip"
    }
   },
   "outputs": [],
   "source": [
    "from matplotlib.pyplot import style\n",
    "\n",
    "style.use(\"seaborn-notebook\")"
   ]
  },
  {
   "cell_type": "markdown",
   "metadata": {
    "slideshow": {
     "slide_type": "slide"
    }
   },
   "source": [
    "# Accessing IOOS CO-OPS.NOS data via ERDDAP\n",
    "\n",
    "<https://tidesandcurrents.noaa.gov/about.html>"
   ]
  },
  {
   "cell_type": "code",
   "execution_count": 2,
   "metadata": {
    "slideshow": {
     "slide_type": "slide"
    }
   },
   "outputs": [],
   "source": [
    "from erddapy import ERDDAP\n",
    "\n",
    "\n",
    "server = \"https://opendap.co-ops.nos.noaa.gov/erddap\"\n",
    "e = ERDDAP(server=server, protocol=\"tabledap\")"
   ]
  },
  {
   "cell_type": "code",
   "execution_count": 3,
   "metadata": {
    "slideshow": {
     "slide_type": "fragment"
    }
   },
   "outputs": [],
   "source": [
    "dataset_id = \"IOOS_Hourly_Height_Verified_Water_Level\"\n",
    "\n",
    "e.dataset_id = dataset_id"
   ]
  },
  {
   "cell_type": "markdown",
   "metadata": {
    "slideshow": {
     "slide_type": "fragment"
    }
   },
   "source": [
    "The `dataset_id` can be found by searching the server with the `get_search_url` or with the browser."
   ]
  },
  {
   "cell_type": "markdown",
   "metadata": {
    "slideshow": {
     "slide_type": "slide"
    }
   },
   "source": [
    "We can check what is in the dataset with ERDDAP's `info` URL."
   ]
  },
  {
   "cell_type": "code",
   "execution_count": 4,
   "metadata": {
    "slideshow": {
     "slide_type": "fragment"
    }
   },
   "outputs": [
    {
     "data": {
      "text/html": [
       "<div>\n",
       "<style scoped>\n",
       "    .dataframe tbody tr th:only-of-type {\n",
       "        vertical-align: middle;\n",
       "    }\n",
       "\n",
       "    .dataframe tbody tr th {\n",
       "        vertical-align: top;\n",
       "    }\n",
       "\n",
       "    .dataframe thead th {\n",
       "        text-align: right;\n",
       "    }\n",
       "</style>\n",
       "<table border=\"1\" class=\"dataframe\">\n",
       "  <thead>\n",
       "    <tr style=\"text-align: right;\">\n",
       "      <th></th>\n",
       "      <th>Row Type</th>\n",
       "      <th>Variable Name</th>\n",
       "      <th>Attribute Name</th>\n",
       "      <th>Data Type</th>\n",
       "      <th>Value</th>\n",
       "    </tr>\n",
       "  </thead>\n",
       "  <tbody>\n",
       "    <tr>\n",
       "      <th>0</th>\n",
       "      <td>attribute</td>\n",
       "      <td>NC_GLOBAL</td>\n",
       "      <td>cdm_data_type</td>\n",
       "      <td>String</td>\n",
       "      <td>TimeSeries</td>\n",
       "    </tr>\n",
       "    <tr>\n",
       "      <th>1</th>\n",
       "      <td>attribute</td>\n",
       "      <td>NC_GLOBAL</td>\n",
       "      <td>cdm_timeseries_variables</td>\n",
       "      <td>String</td>\n",
       "      <td>STATION_ID,BEGIN_DATE,END_DATE</td>\n",
       "    </tr>\n",
       "    <tr>\n",
       "      <th>2</th>\n",
       "      <td>attribute</td>\n",
       "      <td>NC_GLOBAL</td>\n",
       "      <td>Conventions</td>\n",
       "      <td>String</td>\n",
       "      <td>COARDS, CF-1.6, ACDD-1.3</td>\n",
       "    </tr>\n",
       "    <tr>\n",
       "      <th>3</th>\n",
       "      <td>attribute</td>\n",
       "      <td>NC_GLOBAL</td>\n",
       "      <td>featureType</td>\n",
       "      <td>String</td>\n",
       "      <td>TimeSeries</td>\n",
       "    </tr>\n",
       "    <tr>\n",
       "      <th>4</th>\n",
       "      <td>attribute</td>\n",
       "      <td>NC_GLOBAL</td>\n",
       "      <td>geospatial_lat_units</td>\n",
       "      <td>String</td>\n",
       "      <td>degrees_north</td>\n",
       "    </tr>\n",
       "  </tbody>\n",
       "</table>\n",
       "</div>"
      ],
      "text/plain": [
       "    Row Type Variable Name            Attribute Name Data Type  \\\n",
       "0  attribute     NC_GLOBAL             cdm_data_type    String   \n",
       "1  attribute     NC_GLOBAL  cdm_timeseries_variables    String   \n",
       "2  attribute     NC_GLOBAL               Conventions    String   \n",
       "3  attribute     NC_GLOBAL               featureType    String   \n",
       "4  attribute     NC_GLOBAL      geospatial_lat_units    String   \n",
       "\n",
       "                            Value  \n",
       "0                      TimeSeries  \n",
       "1  STATION_ID,BEGIN_DATE,END_DATE  \n",
       "2        COARDS, CF-1.6, ACDD-1.3  \n",
       "3                      TimeSeries  \n",
       "4                   degrees_north  "
      ]
     },
     "execution_count": 4,
     "metadata": {},
     "output_type": "execute_result"
    }
   ],
   "source": [
    "import pandas as pd\n",
    "\n",
    "\n",
    "info_url = e.get_info_url(dataset_id=dataset_id, response=\"csv\")\n",
    "\n",
    "info = pd.read_csv(info_url)\n",
    "info.head()"
   ]
  },
  {
   "cell_type": "markdown",
   "metadata": {
    "slideshow": {
     "slide_type": "slide"
    }
   },
   "source": [
    "The variables are:"
   ]
  },
  {
   "cell_type": "code",
   "execution_count": 5,
   "metadata": {
    "slideshow": {
     "slide_type": "fragment"
    }
   },
   "outputs": [
    {
     "data": {
      "text/plain": [
       "{'BEGIN_DATE',\n",
       " 'DATUM',\n",
       " 'END_DATE',\n",
       " 'I',\n",
       " 'L',\n",
       " 'NC_GLOBAL',\n",
       " 'SIGMA',\n",
       " 'STATION_ID',\n",
       " 'WL_VALUE',\n",
       " 'latitude',\n",
       " 'longitude',\n",
       " 'time'}"
      ]
     },
     "execution_count": 5,
     "metadata": {},
     "output_type": "execute_result"
    }
   ],
   "source": [
    "set(info[\"Variable Name\"])"
   ]
  },
  {
   "cell_type": "markdown",
   "metadata": {
    "slideshow": {
     "slide_type": "slide"
    }
   },
   "source": [
    "This server have some `REQUIRED` variables for each request to get a valid URL,"
   ]
  },
  {
   "cell_type": "code",
   "execution_count": 6,
   "metadata": {
    "slideshow": {
     "slide_type": "fragment"
    }
   },
   "outputs": [
    {
     "data": {
      "text/html": [
       "<div>\n",
       "<style scoped>\n",
       "    .dataframe tbody tr th:only-of-type {\n",
       "        vertical-align: middle;\n",
       "    }\n",
       "\n",
       "    .dataframe tbody tr th {\n",
       "        vertical-align: top;\n",
       "    }\n",
       "\n",
       "    .dataframe thead th {\n",
       "        text-align: right;\n",
       "    }\n",
       "</style>\n",
       "<table border=\"1\" class=\"dataframe\">\n",
       "  <thead>\n",
       "    <tr style=\"text-align: right;\">\n",
       "      <th></th>\n",
       "      <th>Row Type</th>\n",
       "      <th>Variable Name</th>\n",
       "      <th>Attribute Name</th>\n",
       "      <th>Data Type</th>\n",
       "      <th>Value</th>\n",
       "    </tr>\n",
       "  </thead>\n",
       "  <tbody>\n",
       "    <tr>\n",
       "      <th>19</th>\n",
       "      <td>attribute</td>\n",
       "      <td>STATION_ID</td>\n",
       "      <td>long_name</td>\n",
       "      <td>String</td>\n",
       "      <td>REQUIRED 7-character Station ID surrounded in ...</td>\n",
       "    </tr>\n",
       "    <tr>\n",
       "      <th>36</th>\n",
       "      <td>attribute</td>\n",
       "      <td>DATUM</td>\n",
       "      <td>long_name</td>\n",
       "      <td>String</td>\n",
       "      <td>REQUIRED 3- to 4-character Datum surrounded in...</td>\n",
       "    </tr>\n",
       "    <tr>\n",
       "      <th>41</th>\n",
       "      <td>attribute</td>\n",
       "      <td>BEGIN_DATE</td>\n",
       "      <td>long_name</td>\n",
       "      <td>String</td>\n",
       "      <td>REQUIRED 8- to 14-character Begin Date (yyyymm...</td>\n",
       "    </tr>\n",
       "    <tr>\n",
       "      <th>45</th>\n",
       "      <td>attribute</td>\n",
       "      <td>END_DATE</td>\n",
       "      <td>long_name</td>\n",
       "      <td>String</td>\n",
       "      <td>REQUIRED 8- to 14-character End Date (yyyymmdd...</td>\n",
       "    </tr>\n",
       "  </tbody>\n",
       "</table>\n",
       "</div>"
      ],
      "text/plain": [
       "     Row Type Variable Name Attribute Name Data Type  \\\n",
       "19  attribute    STATION_ID      long_name    String   \n",
       "36  attribute         DATUM      long_name    String   \n",
       "41  attribute    BEGIN_DATE      long_name    String   \n",
       "45  attribute      END_DATE      long_name    String   \n",
       "\n",
       "                                                Value  \n",
       "19  REQUIRED 7-character Station ID surrounded in ...  \n",
       "36  REQUIRED 3- to 4-character Datum surrounded in...  \n",
       "41  REQUIRED 8- to 14-character Begin Date (yyyymm...  \n",
       "45  REQUIRED 8- to 14-character End Date (yyyymmdd...  "
      ]
     },
     "execution_count": 6,
     "metadata": {},
     "output_type": "execute_result"
    }
   ],
   "source": [
    "info.loc[info[\"Value\"].astype(str).str.startswith(\"REQUIRED\")]"
   ]
  },
  {
   "cell_type": "markdown",
   "metadata": {
    "slideshow": {
     "slide_type": "slide"
    }
   },
   "source": [
    "and the time has its own special format."
   ]
  },
  {
   "cell_type": "code",
   "execution_count": 7,
   "metadata": {
    "slideshow": {
     "slide_type": "fragment"
    }
   },
   "outputs": [
    {
     "data": {
      "text/plain": [
       "'REQUIRED 8- to 14-character End Date (yyyymmdd hh:mi) surrounded in double quotes'"
      ]
     },
     "execution_count": 7,
     "metadata": {},
     "output_type": "execute_result"
    }
   ],
   "source": [
    "pd.set_option(\"max_colwidth\", 100)\n",
    "\n",
    "info.loc[info[\"Variable Name\"] == \"END_DATE\"][\"Value\"].iloc[-1]"
   ]
  },
  {
   "cell_type": "markdown",
   "metadata": {
    "slideshow": {
     "slide_type": "fragment"
    }
   },
   "source": [
    "[With most ERDDAP servers](https://ioos.github.io/erddapy/) we can pass the time constraint as any valid time string or a python object, this dataset uses `yyyymmdd` for some reason :-/\n",
    "\n",
    "Also, because this server has some **required** variables, and the time constraints does not work here, we must pass the actual variable values as constraints."
   ]
  },
  {
   "cell_type": "code",
   "execution_count": 8,
   "metadata": {
    "slideshow": {
     "slide_type": "slide"
    }
   },
   "outputs": [
    {
     "name": "stdout",
     "output_type": "stream",
     "text": [
      "https://opendap.co-ops.nos.noaa.gov/erddap/tabledap/IOOS_Hourly_Height_Verified_Water_Level.html?&BEGIN_DATE=\"20140801\"&END_DATE=\"20140901\"&DATUM=\"MLLW\"&STATION_ID=\"8570283\"\n"
     ]
    }
   ],
   "source": [
    "e.constraints = {\n",
    "    \"BEGIN_DATE=\": \"20140801\",\n",
    "    \"END_DATE=\": \"20140901\",\n",
    "    \"DATUM=\": \"MLLW\",\n",
    "    \"STATION_ID=\": \"8570283\",\n",
    "}\n",
    "\n",
    "url = e.get_download_url()\n",
    "\n",
    "print(url)"
   ]
  },
  {
   "cell_type": "markdown",
   "metadata": {
    "slideshow": {
     "slide_type": "slide"
    }
   },
   "source": [
    "We can request the data from that URL as netCDF, CSV, JSON, etc. B/c it is a time-series let's request a `csv` and put it in a pandas `DataFrame` via the `to_pandas` method."
   ]
  },
  {
   "cell_type": "code",
   "execution_count": 9,
   "metadata": {
    "slideshow": {
     "slide_type": "fragment"
    }
   },
   "outputs": [
    {
     "data": {
      "text/html": [
       "<div>\n",
       "<style scoped>\n",
       "    .dataframe tbody tr th:only-of-type {\n",
       "        vertical-align: middle;\n",
       "    }\n",
       "\n",
       "    .dataframe tbody tr th {\n",
       "        vertical-align: top;\n",
       "    }\n",
       "\n",
       "    .dataframe thead th {\n",
       "        text-align: right;\n",
       "    }\n",
       "</style>\n",
       "<table border=\"1\" class=\"dataframe\">\n",
       "  <thead>\n",
       "    <tr style=\"text-align: right;\">\n",
       "      <th></th>\n",
       "      <th>STATION_ID</th>\n",
       "      <th>latitude (degrees_north)</th>\n",
       "      <th>longitude (degrees_east)</th>\n",
       "      <th>DATUM</th>\n",
       "      <th>BEGIN_DATE</th>\n",
       "      <th>END_DATE</th>\n",
       "      <th>WL_VALUE (meters)</th>\n",
       "      <th>SIGMA</th>\n",
       "      <th>I</th>\n",
       "      <th>L</th>\n",
       "    </tr>\n",
       "    <tr>\n",
       "      <th>time (UTC)</th>\n",
       "      <th></th>\n",
       "      <th></th>\n",
       "      <th></th>\n",
       "      <th></th>\n",
       "      <th></th>\n",
       "      <th></th>\n",
       "      <th></th>\n",
       "      <th></th>\n",
       "      <th></th>\n",
       "      <th></th>\n",
       "    </tr>\n",
       "  </thead>\n",
       "  <tbody>\n",
       "    <tr>\n",
       "      <th>2014-08-01 00:00:00</th>\n",
       "      <td>8570283</td>\n",
       "      <td>38.3283</td>\n",
       "      <td>-75.0917</td>\n",
       "      <td>MLLW</td>\n",
       "      <td>20140801</td>\n",
       "      <td>20140901</td>\n",
       "      <td>0.404</td>\n",
       "      <td>0.013</td>\n",
       "      <td>0</td>\n",
       "      <td>0</td>\n",
       "    </tr>\n",
       "    <tr>\n",
       "      <th>2014-08-01 01:00:00</th>\n",
       "      <td>8570283</td>\n",
       "      <td>38.3283</td>\n",
       "      <td>-75.0917</td>\n",
       "      <td>MLLW</td>\n",
       "      <td>20140801</td>\n",
       "      <td>20140901</td>\n",
       "      <td>0.547</td>\n",
       "      <td>0.012</td>\n",
       "      <td>0</td>\n",
       "      <td>0</td>\n",
       "    </tr>\n",
       "    <tr>\n",
       "      <th>2014-08-01 02:00:00</th>\n",
       "      <td>8570283</td>\n",
       "      <td>38.3283</td>\n",
       "      <td>-75.0917</td>\n",
       "      <td>MLLW</td>\n",
       "      <td>20140801</td>\n",
       "      <td>20140901</td>\n",
       "      <td>0.650</td>\n",
       "      <td>0.016</td>\n",
       "      <td>0</td>\n",
       "      <td>0</td>\n",
       "    </tr>\n",
       "    <tr>\n",
       "      <th>2014-08-01 03:00:00</th>\n",
       "      <td>8570283</td>\n",
       "      <td>38.3283</td>\n",
       "      <td>-75.0917</td>\n",
       "      <td>MLLW</td>\n",
       "      <td>20140801</td>\n",
       "      <td>20140901</td>\n",
       "      <td>0.729</td>\n",
       "      <td>0.014</td>\n",
       "      <td>0</td>\n",
       "      <td>0</td>\n",
       "    </tr>\n",
       "    <tr>\n",
       "      <th>2014-08-01 04:00:00</th>\n",
       "      <td>8570283</td>\n",
       "      <td>38.3283</td>\n",
       "      <td>-75.0917</td>\n",
       "      <td>MLLW</td>\n",
       "      <td>20140801</td>\n",
       "      <td>20140901</td>\n",
       "      <td>0.738</td>\n",
       "      <td>0.016</td>\n",
       "      <td>0</td>\n",
       "      <td>0</td>\n",
       "    </tr>\n",
       "  </tbody>\n",
       "</table>\n",
       "</div>"
      ],
      "text/plain": [
       "                     STATION_ID  latitude (degrees_north)  \\\n",
       "time (UTC)                                                  \n",
       "2014-08-01 00:00:00     8570283                   38.3283   \n",
       "2014-08-01 01:00:00     8570283                   38.3283   \n",
       "2014-08-01 02:00:00     8570283                   38.3283   \n",
       "2014-08-01 03:00:00     8570283                   38.3283   \n",
       "2014-08-01 04:00:00     8570283                   38.3283   \n",
       "\n",
       "                     longitude (degrees_east) DATUM  BEGIN_DATE  END_DATE  \\\n",
       "time (UTC)                                                                  \n",
       "2014-08-01 00:00:00                  -75.0917  MLLW    20140801  20140901   \n",
       "2014-08-01 01:00:00                  -75.0917  MLLW    20140801  20140901   \n",
       "2014-08-01 02:00:00                  -75.0917  MLLW    20140801  20140901   \n",
       "2014-08-01 03:00:00                  -75.0917  MLLW    20140801  20140901   \n",
       "2014-08-01 04:00:00                  -75.0917  MLLW    20140801  20140901   \n",
       "\n",
       "                     WL_VALUE (meters)  SIGMA  I  L  \n",
       "time (UTC)                                           \n",
       "2014-08-01 00:00:00              0.404  0.013  0  0  \n",
       "2014-08-01 01:00:00              0.547  0.012  0  0  \n",
       "2014-08-01 02:00:00              0.650  0.016  0  0  \n",
       "2014-08-01 03:00:00              0.729  0.014  0  0  \n",
       "2014-08-01 04:00:00              0.738  0.016  0  0  "
      ]
     },
     "execution_count": 9,
     "metadata": {},
     "output_type": "execute_result"
    }
   ],
   "source": [
    "df = e.to_pandas(\n",
    "    index_col=\"time (UTC)\",\n",
    "    parse_dates=True,\n",
    ").dropna()\n",
    "\n",
    "# Make it a naive time zone for plotting.\n",
    "df.index = df.index.tz_localize(None)\n",
    "\n",
    "df.head()"
   ]
  },
  {
   "cell_type": "code",
   "execution_count": 10,
   "metadata": {
    "slideshow": {
     "slide_type": "slide"
    }
   },
   "outputs": [
    {
     "data": {
      "image/png": "[encoded data removed]",
      "text/plain": [
       "<Figure size 1080x270 with 1 Axes>"
      ]
     },
     "metadata": {
      "needs_background": "light"
     },
     "output_type": "display_data"
    }
   ],
   "source": [
    "%matplotlib inline\n",
    "\n",
    "\n",
    "df[\"WL_VALUE (meters)\"].plot(figsize=(15, 3.75));"
   ]
  },
  {
   "cell_type": "markdown",
   "metadata": {
    "slideshow": {
     "slide_type": "slide"
    }
   },
   "source": [
    "Exercise:\n",
    "\n",
    "- Change the constraints below and create a similar plot. Start with the dates.\n",
    "- Try to find another stations (STATION_ID) by browsing the [dataset online](https://opendap.co-ops.nos.noaa.gov/erddap). Was that easy?"
   ]
  },
  {
   "cell_type": "markdown",
   "metadata": {
    "slideshow": {
     "slide_type": "fragment"
    }
   },
   "source": [
    "```python\n",
    "e.constraints = {\n",
    "    \"BEGIN_DATE=\": \"20140801\",\n",
    "    \"END_DATE=\": \"20140901\",\n",
    "    \"DATUM=\": \"MLLW\",\n",
    "    \"STATION_ID=\": \"8570283\",\n",
    "}\n",
    "\n",
    "url = e.get_download_url()\n",
    "\n",
    "```"
   ]
  }
 ],
 "metadata": {
  "_draft": {
   "nbviewer_url": "https://gist.github.com/87c15adf417630214fb6f764e0f3f769"
  },
  "celltoolbar": "Slideshow",
  "gist": {
   "data": {
    "description": "co-ops.nos.noaa-example",
    "public": true
   },
   "id": "87c15adf417630214fb6f764e0f3f769"
  },
  "kernelspec": {
   "display_name": "Python 3",
   "language": "python",
   "name": "python3"
  },
  "language_info": {
   "codemirror_mode": {
    "name": "ipython",
    "version": 3
   },
   "file_extension": ".py",
   "mimetype": "text/x-python",
   "name": "python",
   "nbconvert_exporter": "python",
   "pygments_lexer": "ipython3",
   "version": "3.7.3"
  }
 },
 "nbformat": 4,
 "nbformat_minor": 2
}
